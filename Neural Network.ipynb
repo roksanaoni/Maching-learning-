{
  "cells": [
    {
      "cell_type": "markdown",
      "metadata": {
        "id": "view-in-github",
        "colab_type": "text"
      },
      "source": [
        "<a href=\"https://colab.research.google.com/github/roksanaoni/Maching-learning-/blob/main/Neural%20Network.ipynb\" target=\"_parent\"><img src=\"https://colab.research.google.com/assets/colab-badge.svg\" alt=\"Open In Colab\"/></a>"
      ]
    },
    {
      "cell_type": "code",
      "source": [
        "from sklearn.neural_network import MLPClassifier\n",
        "from sklearn.feature_extraction.text import TfidfVectorizer\n",
        "from sklearn.model_selection import train_test_split\n",
        "from sklearn.metrics import accuracy_score, precision_score, recall_score, f1_score, confusion_matrix\n",
        "\n",
        "# Train-Test Split (use best_random_state found earlier)\n",
        "X_train, X_test, y_train, y_test = train_test_split(X, y, test_size=0.2,\n",
        "                                                    random_state=best_random_state, stratify=y)\n",
        "\n",
        "# Vectorize text with TF-IDF\n",
        "tfidf_vectorizer = TfidfVectorizer()\n",
        "X_train_tfidf = tfidf_vectorizer.fit_transform(X_train)\n",
        "X_test_tfidf = tfidf_vectorizer.transform(X_test)\n",
        "\n",
        "# Neural Network Classifier\n",
        "nn_model = MLPClassifier(hidden_layer_sizes=(128, 64),  # two hidden layers\n",
        "                         activation='relu',\n",
        "                         solver='adam',\n",
        "                         max_iter=10,   # increase if needed\n",
        "                         random_state=best_random_state)\n",
        "\n",
        "# Train\n",
        "nn_model.fit(X_train_tfidf, y_train)\n",
        "\n",
        "# Predict\n",
        "y_pred_nn = nn_model.predict(X_test_tfidf)\n",
        "\n",
        "# Evaluate\n",
        "accuracy = accuracy_score(y_test, y_pred_nn)\n",
        "precision = precision_score(y_test, y_pred_nn)\n",
        "recall = recall_score(y_test, y_pred_nn)\n",
        "f1 = f1_score(y_test, y_pred_nn)\n",
        "conf_matrix = confusion_matrix(y_test, y_pred_nn)\n",
        "\n",
        "print(\"Neural Network Results\")\n",
        "print(f\"Accuracy: {accuracy}\")\n",
        "print(f\"Precision: {precision}\")\n",
        "print(f\"Recall: {recall}\")\n",
        "print(f\"F1-score: {f1}\")\n",
        "print(\"Confusion Matrix:\")\n",
        "print(conf_matrix)\n"
      ],
      "metadata": {
        "id": "e5t-FU6xDqzV",
        "outputId": "30663718-c332-4d06-b1fe-72437dabb89b",
        "colab": {
          "base_uri": "https://localhost:8080/"
        }
      },
      "execution_count": 4,
      "outputs": [
        {
          "output_type": "stream",
          "name": "stdout",
          "text": [
            "Neural Network Results\n",
            "Accuracy: 0.9937219730941704\n",
            "Precision: 0.9863013698630136\n",
            "Recall: 0.9664429530201343\n",
            "F1-score: 0.976271186440678\n",
            "Confusion Matrix:\n",
            "[[964   2]\n",
            " [  5 144]]\n"
          ]
        },
        {
          "output_type": "stream",
          "name": "stderr",
          "text": [
            "/usr/local/lib/python3.11/dist-packages/sklearn/neural_network/_multilayer_perceptron.py:691: ConvergenceWarning: Stochastic Optimizer: Maximum iterations (10) reached and the optimization hasn't converged yet.\n",
            "  warnings.warn(\n"
          ]
        }
      ]
    }
  ],
  "metadata": {
    "colab": {
      "name": "Welcome To Colab",
      "provenance": [],
      "include_colab_link": true
    },
    "kernelspec": {
      "display_name": "Python 3",
      "name": "python3"
    }
  },
  "nbformat": 4,
  "nbformat_minor": 0
}