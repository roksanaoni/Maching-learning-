{
  "cells": [
    {
      "cell_type": "markdown",
      "metadata": {
        "id": "view-in-github",
        "colab_type": "text"
      },
      "source": [
        "<a href=\"https://colab.research.google.com/github/roksanaoni/Maching-learning-/blob/main/Isolation%20Forest%20for%20Spam%20Detection.ipynb\" target=\"_parent\"><img src=\"https://colab.research.google.com/assets/colab-badge.svg\" alt=\"Open In Colab\"/></a>"
      ]
    },
    {
      "cell_type": "code",
      "source": [
        "from sklearn.ensemble import IsolationForest\n",
        "from sklearn.feature_extraction.text import TfidfVectorizer\n",
        "from sklearn.model_selection import train_test_split\n",
        "from sklearn.metrics import accuracy_score, precision_score, recall_score, f1_score, confusion_matrix\n",
        "\n",
        "# Train-Test Split (still splitting even though Isolation Forest is unsupervised)\n",
        "X_train, X_test, y_train, y_test = train_test_split(X, y, test_size=0.2,\n",
        "                                                    random_state=best_random_state, stratify=y)\n",
        "\n",
        "# TF-IDF Vectorization\n",
        "tfidf_vectorizer = TfidfVectorizer()\n",
        "X_train_tfidf = tfidf_vectorizer.fit_transform(X_train)\n",
        "X_test_tfidf = tfidf_vectorizer.transform(X_test)\n",
        "\n",
        "# ---------------------------\n",
        "# Isolation Forest\n",
        "# ---------------------------\n",
        "iso_model = IsolationForest(\n",
        "    n_estimators=100,        # number of trees\n",
        "    contamination=0.15,      # expected proportion of anomalies (adjust based on spam ratio)\n",
        "    random_state=best_random_state,\n",
        "    n_jobs=-1                # use all CPU cores\n",
        ")\n",
        "\n",
        "# Train on training data (unsupervised, uses only X)\n",
        "iso_model.fit(X_train_tfidf)\n",
        "\n",
        "# Predict: returns 1 (normal) or -1 (anomaly)\n",
        "y_pred_iso = iso_model.predict(X_test_tfidf)\n",
        "\n",
        "# Convert to spam/ham labels:\n",
        "# Map -1 → spam (anomaly), 1 → ham (normal)\n",
        "y_pred_iso = [1 if p == -1 else 0 for p in y_pred_iso]\n",
        "\n",
        "# Evaluate\n",
        "accuracy = accuracy_score(y_test, y_pred_iso)\n",
        "precision = precision_score(y_test, y_pred_iso)\n",
        "recall = recall_score(y_test, y_pred_iso)\n",
        "f1 = f1_score(y_test, y_pred_iso)\n",
        "conf_matrix = confusion_matrix(y_test, y_pred_iso)\n",
        "\n",
        "print(\"Isolation Forest Results\")\n",
        "print(f\"Accuracy: {accuracy}\")\n",
        "print(f\"Precision: {precision}\")\n",
        "print(f\"Recall: {recall}\")\n",
        "print(f\"F1-score: {f1}\")\n",
        "print(\"Confusion Matrix:\")\n",
        "print(conf_matrix)\n"
      ],
      "metadata": {
        "colab": {
          "base_uri": "https://localhost:8080/"
        },
        "id": "e5t-FU6xDqzV",
        "outputId": "c64763f9-487e-4b1e-d39e-d00adba72058"
      },
      "execution_count": 8,
      "outputs": [
        {
          "output_type": "stream",
          "name": "stdout",
          "text": [
            "Isolation Forest Results\n",
            "Accuracy: 0.8286995515695067\n",
            "Precision: 0.38461538461538464\n",
            "Recall: 0.4697986577181208\n",
            "F1-score: 0.4229607250755287\n",
            "Confusion Matrix:\n",
            "[[854 112]\n",
            " [ 79  70]]\n"
          ]
        }
      ]
    }
  ],
  "metadata": {
    "colab": {
      "name": "Welcome To Colab",
      "provenance": [],
      "include_colab_link": true
    },
    "kernelspec": {
      "display_name": "Python 3",
      "name": "python3"
    }
  },
  "nbformat": 4,
  "nbformat_minor": 0
}